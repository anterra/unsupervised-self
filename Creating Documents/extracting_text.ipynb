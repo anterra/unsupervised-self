{
 "metadata": {
  "language_info": {
   "codemirror_mode": {
    "name": "ipython",
    "version": 3
   },
   "file_extension": ".py",
   "mimetype": "text/x-python",
   "name": "python",
   "nbconvert_exporter": "python",
   "pygments_lexer": "ipython3",
   "version": 3
  },
  "orig_nbformat": 2,
  "kernelspec": {
   "name": "python_defaultSpec_1597271833780",
   "display_name": "Python 3.7.7 64-bit ('base': conda)"
  }
 },
 "nbformat": 4,
 "nbformat_minor": 2,
 "cells": [
  {
   "cell_type": "markdown",
   "metadata": {},
   "source": [
    "## Imports"
   ]
  },
  {
   "cell_type": "code",
   "execution_count": 114,
   "metadata": {},
   "outputs": [],
   "source": [
    "import pandas as pd\n",
    "import numpy as np\n",
    "import nltk\n",
    "import os\n",
    "import textract\n",
    "from collections import defaultdict\n",
    "import re\n",
    "import string\n",
    "import pickle"
   ]
  },
  {
   "cell_type": "markdown",
   "metadata": {},
   "source": [
    "## This Notebook: \n",
    "In this notebook, I extract the text from each of my documents as one continuous string. To do this, I used textract. \n",
    "\n",
    "I then create a dataframe which includes the title and genre of the text. "
   ]
  },
  {
   "cell_type": "markdown",
   "metadata": {},
   "source": [
    "## Extracting Text "
   ]
  },
  {
   "cell_type": "code",
   "execution_count": 130,
   "metadata": {},
   "outputs": [
    {
     "output_type": "execute_result",
     "data": {
      "text/plain": "['.DS_Store',\n 'abhidhamma_practice.txt',\n 'brahma_sutras.txt',\n 'finer_scale.txt',\n 'mind_yoga.txt',\n 'pdf_abhidhamma.pdf',\n 'pdf_brahma_sutras_sivananda.pdf',\n 'pdf_four_vedas.pdf',\n 'pdf_indian_philosophy.pdf',\n 'pdf_information_consciousness.pdf',\n 'pdf_process_consciousness.pdf',\n 'pdf_quantum_mind.pdf',\n 'pdf_selfhood.pdf',\n 'pdf_tao_te_ching.pdf',\n 'pdf_universe_quantum.pdf',\n 'pdf_upanishads.pdf',\n 'quantum_approaches_consciousness.txt',\n 'yoga sutras patanjali.txt']"
     },
     "metadata": {},
     "execution_count": 130
    }
   ],
   "source": [
    "path = \"/Users/anterra/Metis/project_4/clean_files\"\n",
    "documents = os.listdir(path)\n",
    "documents.sort()\n",
    "documents"
   ]
  },
  {
   "cell_type": "code",
   "execution_count": 131,
   "metadata": {},
   "outputs": [
    {
     "output_type": "execute_result",
     "data": {
      "text/plain": "['abhidhamma_practice.txt',\n 'brahma_sutras.txt',\n 'finer_scale.txt',\n 'mind_yoga.txt',\n 'pdf_abhidhamma.pdf',\n 'pdf_brahma_sutras_sivananda.pdf',\n 'pdf_four_vedas.pdf',\n 'pdf_indian_philosophy.pdf',\n 'pdf_information_consciousness.pdf',\n 'pdf_process_consciousness.pdf',\n 'pdf_quantum_mind.pdf',\n 'pdf_selfhood.pdf',\n 'pdf_tao_te_ching.pdf',\n 'pdf_universe_quantum.pdf',\n 'pdf_upanishads.pdf',\n 'quantum_approaches_consciousness.txt',\n 'yoga sutras patanjali.txt']"
     },
     "metadata": {},
     "execution_count": 131
    }
   ],
   "source": [
    "documents.pop(0)\n",
    "documents"
   ]
  },
  {
   "cell_type": "code",
   "execution_count": 132,
   "metadata": {},
   "outputs": [],
   "source": [
    "document_text = defaultdict(dict)\n"
   ]
  },
  {
   "cell_type": "code",
   "execution_count": 133,
   "metadata": {},
   "outputs": [],
   "source": [
    "for doc in documents:\n",
    "    document_text[doc][\"Text\"] = textract.process(path+\"/\"+doc)"
   ]
  },
  {
   "cell_type": "code",
   "execution_count": 134,
   "metadata": {},
   "outputs": [
    {
     "output_type": "execute_result",
     "data": {
      "text/plain": "17"
     },
     "metadata": {},
     "execution_count": 134
    }
   ],
   "source": [
    "len(document_text)"
   ]
  },
  {
   "cell_type": "code",
   "execution_count": 135,
   "metadata": {},
   "outputs": [
    {
     "output_type": "execute_result",
     "data": {
      "text/plain": "dict_keys(['abhidhamma_practice.txt', 'brahma_sutras.txt', 'finer_scale.txt', 'mind_yoga.txt', 'pdf_abhidhamma.pdf', 'pdf_brahma_sutras_sivananda.pdf', 'pdf_four_vedas.pdf', 'pdf_indian_philosophy.pdf', 'pdf_information_consciousness.pdf', 'pdf_process_consciousness.pdf', 'pdf_quantum_mind.pdf', 'pdf_selfhood.pdf', 'pdf_tao_te_ching.pdf', 'pdf_universe_quantum.pdf', 'pdf_upanishads.pdf', 'quantum_approaches_consciousness.txt', 'yoga sutras patanjali.txt'])"
     },
     "metadata": {},
     "execution_count": 135
    }
   ],
   "source": [
    "document_text.keys()"
   ]
  },
  {
   "cell_type": "markdown",
   "metadata": {},
   "source": [
    "## Decoding to UTF-8\n",
    "Removing leading \"b'\" around the text, by decoding it from bytes to utf-8:"
   ]
  },
  {
   "cell_type": "code",
   "execution_count": 164,
   "metadata": {},
   "outputs": [],
   "source": [
    "for doc in documents:\n",
    "    document_text[doc][\"Text\"] = document_text[doc][\"Text\"].decode(\"utf-8\")"
   ]
  },
  {
   "cell_type": "markdown",
   "metadata": {},
   "source": [
    "## Creating DataFrame"
   ]
  },
  {
   "cell_type": "code",
   "execution_count": 166,
   "metadata": {},
   "outputs": [],
   "source": [
    "df = pd.DataFrame(document_text).T"
   ]
  },
  {
   "cell_type": "code",
   "execution_count": 167,
   "metadata": {},
   "outputs": [
    {
     "output_type": "execute_result",
     "data": {
      "text/plain": "                                                                                   Text\nabhidhamma_practice.txt               Preface  \\nThis book is not a synopsis of the ...\nbrahma_sutras.txt                     INTRODUCTION.\\n\\nIn the Introduction to the fi...\nfiner_scale.txt                       The finer scale of consciousness: quantum theo...\nmind_yoga.txt                         Mind and consciousness in yoga – Vedanta: A co...\npdf_abhidhamma.pdf                    INTRODUCTION\\n\\n1\\n\\nINTRODUCTION\\n\\nThe nucle...\npdf_brahma_sutras_sivananda.pdf       SYNOPSIS\\n\\nThis sec tion gives a bird’s-eye v...\npdf_four_vedas.pdf                    Rig Veda – English Translation \\n\\n \\n\\n \\n\\n ...\npdf_indian_philosophy.pdf             Journal of Consciousness Exploration & Researc...\npdf_information_consciousness.pdf     Chapter 1\\nIntroduction\\n\\nThis is a story abo...\npdf_process_consciousness.pdf          \\n\\nINTRODUCTION \\n\\n \\nThis book is intended...\npdf_quantum_mind.pdf                  Introduction in quantum aspects of brain funct...\npdf_selfhood.pdf                      Selfhood and Identity in Confucianism, Taoism,...\npdf_tao_te_ching.pdf                  Tao Te Ching \\n\\nChapter One \\n \\nTao (The Way...\npdf_universe_quantum.pdf              Journal of Cosmology, 2009, Vol 3, pages 500‐5...\npdf_upanishads.pdf                    Isavasya Upanishad \\nTranslated by Vidyavachas...\nquantum_approaches_consciousness.txt  Quantum Approaches to Consciousness\\nFirst pub...\nyoga sutras patanjali.txt             \\n               THE YOGA SUTRAS OF PATANJALI\\...",
      "text/html": "<div>\n<style scoped>\n    .dataframe tbody tr th:only-of-type {\n        vertical-align: middle;\n    }\n\n    .dataframe tbody tr th {\n        vertical-align: top;\n    }\n\n    .dataframe thead th {\n        text-align: right;\n    }\n</style>\n<table border=\"1\" class=\"dataframe\">\n  <thead>\n    <tr style=\"text-align: right;\">\n      <th></th>\n      <th>Text</th>\n    </tr>\n  </thead>\n  <tbody>\n    <tr>\n      <th>abhidhamma_practice.txt</th>\n      <td>Preface  \\nThis book is not a synopsis of the ...</td>\n    </tr>\n    <tr>\n      <th>brahma_sutras.txt</th>\n      <td>INTRODUCTION.\\n\\nIn the Introduction to the fi...</td>\n    </tr>\n    <tr>\n      <th>finer_scale.txt</th>\n      <td>The finer scale of consciousness: quantum theo...</td>\n    </tr>\n    <tr>\n      <th>mind_yoga.txt</th>\n      <td>Mind and consciousness in yoga – Vedanta: A co...</td>\n    </tr>\n    <tr>\n      <th>pdf_abhidhamma.pdf</th>\n      <td>INTRODUCTION\\n\\n1\\n\\nINTRODUCTION\\n\\nThe nucle...</td>\n    </tr>\n    <tr>\n      <th>pdf_brahma_sutras_sivananda.pdf</th>\n      <td>SYNOPSIS\\n\\nThis sec tion gives a bird’s-eye v...</td>\n    </tr>\n    <tr>\n      <th>pdf_four_vedas.pdf</th>\n      <td>Rig Veda – English Translation \\n\\n \\n\\n \\n\\n ...</td>\n    </tr>\n    <tr>\n      <th>pdf_indian_philosophy.pdf</th>\n      <td>Journal of Consciousness Exploration &amp; Researc...</td>\n    </tr>\n    <tr>\n      <th>pdf_information_consciousness.pdf</th>\n      <td>Chapter 1\\nIntroduction\\n\\nThis is a story abo...</td>\n    </tr>\n    <tr>\n      <th>pdf_process_consciousness.pdf</th>\n      <td>\\n\\nINTRODUCTION \\n\\n \\nThis book is intended...</td>\n    </tr>\n    <tr>\n      <th>pdf_quantum_mind.pdf</th>\n      <td>Introduction in quantum aspects of brain funct...</td>\n    </tr>\n    <tr>\n      <th>pdf_selfhood.pdf</th>\n      <td>Selfhood and Identity in Confucianism, Taoism,...</td>\n    </tr>\n    <tr>\n      <th>pdf_tao_te_ching.pdf</th>\n      <td>Tao Te Ching \\n\\nChapter One \\n \\nTao (The Way...</td>\n    </tr>\n    <tr>\n      <th>pdf_universe_quantum.pdf</th>\n      <td>Journal of Cosmology, 2009, Vol 3, pages 500‐5...</td>\n    </tr>\n    <tr>\n      <th>pdf_upanishads.pdf</th>\n      <td>Isavasya Upanishad \\nTranslated by Vidyavachas...</td>\n    </tr>\n    <tr>\n      <th>quantum_approaches_consciousness.txt</th>\n      <td>Quantum Approaches to Consciousness\\nFirst pub...</td>\n    </tr>\n    <tr>\n      <th>yoga sutras patanjali.txt</th>\n      <td>\\n               THE YOGA SUTRAS OF PATANJALI\\...</td>\n    </tr>\n  </tbody>\n</table>\n</div>"
     },
     "metadata": {},
     "execution_count": 167
    }
   ],
   "source": [
    "df"
   ]
  },
  {
   "cell_type": "code",
   "execution_count": 168,
   "metadata": {},
   "outputs": [],
   "source": [
    "titles = [\"The Abhidhamma In Practice\", \"Brahma Sutras\", \"The Finer Scale of Consciousness: Quantum Theory\", \"Mind and Consciousness in Yoga - Vedanta: A Comparative Analysis with Western Psychological Concepts\", \"A Comprehensive Manual of Abhidhamma\", \"Brahma Sutras: Commentary by Sri Swami Sivananda\", \"The Four Vedas\", \"Consciousness, Mind and Matter in Indian Philosophy\", \"Information-Consciousness-Reality\", \"Process of Consciousness and Matter\", \"Quantum Physics in Consciousness Studies: The Quantum Mind Extended\", \"Selfhood and Identity in Confucianism, Taoism, Buddhism, and Hinduism: Contrasts With the West\", \"The Tao Te Ching\", \"The Universe, Quantum Physics, and Consciousness\", \"108 Upanishads\", \"Quantum Approaches to Consciousness\", \"The Yoga Sutras of Patanjali\"]\n",
    "\n",
    "genres = [\"Buddhism\", \"Hinduism\", \"Quantum\", \"Hinduism\", \"Buddhism\", \"Hinduism\", \"Hinduism\", \"Hinduism\", \"Quantum\", \"Buddhism\", \"Quantum\", \"Taoism\", \"Taoism\", \"Quantum\", \"Hinduism\", \"Quantum\", \"Hinduism\"]\n"
   ]
  },
  {
   "cell_type": "code",
   "execution_count": 169,
   "metadata": {},
   "outputs": [],
   "source": [
    "df[\"Title\"] = titles\n",
    "df[\"Genre\"] = genres"
   ]
  },
  {
   "cell_type": "code",
   "execution_count": 170,
   "metadata": {},
   "outputs": [],
   "source": [
    "df.reset_index(inplace=True)"
   ]
  },
  {
   "cell_type": "code",
   "execution_count": 171,
   "metadata": {},
   "outputs": [],
   "source": [
    "df = df[[\"Title\", \"Genre\", \"Text\"]]"
   ]
  },
  {
   "cell_type": "code",
   "execution_count": 172,
   "metadata": {},
   "outputs": [
    {
     "output_type": "execute_result",
     "data": {
      "text/plain": "                                                Title     Genre  \\\n0                          The Abhidhamma In Practice  Buddhism   \n1                                       Brahma Sutras  Hinduism   \n2    The Finer Scale of Consciousness: Quantum Theory   Quantum   \n3   Mind and Consciousness in Yoga - Vedanta: A Co...  Hinduism   \n4                A Comprehensive Manual of Abhidhamma  Buddhism   \n5    Brahma Sutras: Commentary by Sri Swami Sivananda  Hinduism   \n6                                      The Four Vedas  Hinduism   \n7   Consciousness, Mind and Matter in Indian Philo...  Hinduism   \n8                   Information-Consciousness-Reality   Quantum   \n9                 Process of Consciousness and Matter  Buddhism   \n10  Quantum Physics in Consciousness Studies: The ...   Quantum   \n11  Selfhood and Identity in Confucianism, Taoism,...    Taoism   \n12                                   The Tao Te Ching    Taoism   \n13   The Universe, Quantum Physics, and Consciousness   Quantum   \n14                                     108 Upanishads  Hinduism   \n15                Quantum Approaches to Consciousness   Quantum   \n16                       The Yoga Sutras of Patanjali  Hinduism   \n\n                                                 Text  \n0   Preface  \\nThis book is not a synopsis of the ...  \n1   INTRODUCTION.\\n\\nIn the Introduction to the fi...  \n2   The finer scale of consciousness: quantum theo...  \n3   Mind and consciousness in yoga – Vedanta: A co...  \n4   INTRODUCTION\\n\\n1\\n\\nINTRODUCTION\\n\\nThe nucle...  \n5   SYNOPSIS\\n\\nThis sec tion gives a bird’s-eye v...  \n6   Rig Veda – English Translation \\n\\n \\n\\n \\n\\n ...  \n7   Journal of Consciousness Exploration & Researc...  \n8   Chapter 1\\nIntroduction\\n\\nThis is a story abo...  \n9    \\n\\nINTRODUCTION \\n\\n \\nThis book is intended...  \n10  Introduction in quantum aspects of brain funct...  \n11  Selfhood and Identity in Confucianism, Taoism,...  \n12  Tao Te Ching \\n\\nChapter One \\n \\nTao (The Way...  \n13  Journal of Cosmology, 2009, Vol 3, pages 500‐5...  \n14  Isavasya Upanishad \\nTranslated by Vidyavachas...  \n15  Quantum Approaches to Consciousness\\nFirst pub...  \n16  \\n               THE YOGA SUTRAS OF PATANJALI\\...  ",
      "text/html": "<div>\n<style scoped>\n    .dataframe tbody tr th:only-of-type {\n        vertical-align: middle;\n    }\n\n    .dataframe tbody tr th {\n        vertical-align: top;\n    }\n\n    .dataframe thead th {\n        text-align: right;\n    }\n</style>\n<table border=\"1\" class=\"dataframe\">\n  <thead>\n    <tr style=\"text-align: right;\">\n      <th></th>\n      <th>Title</th>\n      <th>Genre</th>\n      <th>Text</th>\n    </tr>\n  </thead>\n  <tbody>\n    <tr>\n      <th>0</th>\n      <td>The Abhidhamma In Practice</td>\n      <td>Buddhism</td>\n      <td>Preface  \\nThis book is not a synopsis of the ...</td>\n    </tr>\n    <tr>\n      <th>1</th>\n      <td>Brahma Sutras</td>\n      <td>Hinduism</td>\n      <td>INTRODUCTION.\\n\\nIn the Introduction to the fi...</td>\n    </tr>\n    <tr>\n      <th>2</th>\n      <td>The Finer Scale of Consciousness: Quantum Theory</td>\n      <td>Quantum</td>\n      <td>The finer scale of consciousness: quantum theo...</td>\n    </tr>\n    <tr>\n      <th>3</th>\n      <td>Mind and Consciousness in Yoga - Vedanta: A Co...</td>\n      <td>Hinduism</td>\n      <td>Mind and consciousness in yoga – Vedanta: A co...</td>\n    </tr>\n    <tr>\n      <th>4</th>\n      <td>A Comprehensive Manual of Abhidhamma</td>\n      <td>Buddhism</td>\n      <td>INTRODUCTION\\n\\n1\\n\\nINTRODUCTION\\n\\nThe nucle...</td>\n    </tr>\n    <tr>\n      <th>5</th>\n      <td>Brahma Sutras: Commentary by Sri Swami Sivananda</td>\n      <td>Hinduism</td>\n      <td>SYNOPSIS\\n\\nThis sec tion gives a bird’s-eye v...</td>\n    </tr>\n    <tr>\n      <th>6</th>\n      <td>The Four Vedas</td>\n      <td>Hinduism</td>\n      <td>Rig Veda – English Translation \\n\\n \\n\\n \\n\\n ...</td>\n    </tr>\n    <tr>\n      <th>7</th>\n      <td>Consciousness, Mind and Matter in Indian Philo...</td>\n      <td>Hinduism</td>\n      <td>Journal of Consciousness Exploration &amp; Researc...</td>\n    </tr>\n    <tr>\n      <th>8</th>\n      <td>Information-Consciousness-Reality</td>\n      <td>Quantum</td>\n      <td>Chapter 1\\nIntroduction\\n\\nThis is a story abo...</td>\n    </tr>\n    <tr>\n      <th>9</th>\n      <td>Process of Consciousness and Matter</td>\n      <td>Buddhism</td>\n      <td>\\n\\nINTRODUCTION \\n\\n \\nThis book is intended...</td>\n    </tr>\n    <tr>\n      <th>10</th>\n      <td>Quantum Physics in Consciousness Studies: The ...</td>\n      <td>Quantum</td>\n      <td>Introduction in quantum aspects of brain funct...</td>\n    </tr>\n    <tr>\n      <th>11</th>\n      <td>Selfhood and Identity in Confucianism, Taoism,...</td>\n      <td>Taoism</td>\n      <td>Selfhood and Identity in Confucianism, Taoism,...</td>\n    </tr>\n    <tr>\n      <th>12</th>\n      <td>The Tao Te Ching</td>\n      <td>Taoism</td>\n      <td>Tao Te Ching \\n\\nChapter One \\n \\nTao (The Way...</td>\n    </tr>\n    <tr>\n      <th>13</th>\n      <td>The Universe, Quantum Physics, and Consciousness</td>\n      <td>Quantum</td>\n      <td>Journal of Cosmology, 2009, Vol 3, pages 500‐5...</td>\n    </tr>\n    <tr>\n      <th>14</th>\n      <td>108 Upanishads</td>\n      <td>Hinduism</td>\n      <td>Isavasya Upanishad \\nTranslated by Vidyavachas...</td>\n    </tr>\n    <tr>\n      <th>15</th>\n      <td>Quantum Approaches to Consciousness</td>\n      <td>Quantum</td>\n      <td>Quantum Approaches to Consciousness\\nFirst pub...</td>\n    </tr>\n    <tr>\n      <th>16</th>\n      <td>The Yoga Sutras of Patanjali</td>\n      <td>Hinduism</td>\n      <td>\\n               THE YOGA SUTRAS OF PATANJALI\\...</td>\n    </tr>\n  </tbody>\n</table>\n</div>"
     },
     "metadata": {},
     "execution_count": 172
    }
   ],
   "source": [
    "df"
   ]
  },
  {
   "cell_type": "markdown",
   "metadata": {},
   "source": [
    "## Pickling DataFrame for Use"
   ]
  },
  {
   "cell_type": "code",
   "execution_count": 173,
   "metadata": {},
   "outputs": [],
   "source": [
    "f = open(\"df.data\", \"wb\")\n",
    "pickle.dump(df, f)\n",
    "f.close()"
   ]
  },
  {
   "cell_type": "code",
   "execution_count": null,
   "metadata": {},
   "outputs": [],
   "source": []
  }
 ]
}