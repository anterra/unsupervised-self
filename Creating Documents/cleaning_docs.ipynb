{
 "metadata": {
  "language_info": {
   "codemirror_mode": {
    "name": "ipython",
    "version": 3
   },
   "file_extension": ".py",
   "mimetype": "text/x-python",
   "name": "python",
   "nbconvert_exporter": "python",
   "pygments_lexer": "ipython3",
   "version": 3
  },
  "orig_nbformat": 2,
  "kernelspec": {
   "name": "python_defaultSpec_1597074782407",
   "display_name": "Python 3.7.7 64-bit ('base': conda)"
  }
 },
 "nbformat": 4,
 "nbformat_minor": 2,
 "cells": [
  {
   "cell_type": "markdown",
   "metadata": {},
   "source": [
    "## Imports"
   ]
  },
  {
   "cell_type": "code",
   "execution_count": 145,
   "metadata": {},
   "outputs": [],
   "source": [
    "import pandas as pd\n",
    "import numpy as np\n",
    "import nltk\n",
    "import os\n",
    "import PyPDF2\n",
    "import textract\n",
    "from bs4 import BeautifulSoup\n",
    "import html2text"
   ]
  },
  {
   "cell_type": "markdown",
   "metadata": {},
   "source": [
    "## This Notebook: \n",
    "In this notebook, I clean up my documents to get ready for extracting the text. \n",
    "\n",
    "Specifically, I remove the cover pages, tables of contents, appedices, publishing information, sanskrit-to-english dictionaries/translations including in many of the texts, etc. In this way, they only contain the actual text analysis information I care about. \n",
    "\n",
    "To do this: \n",
    "* For PDFs I used pyPDF2 to select only certain desired pages of the documents. \n",
    "* For HTML files I manually copy pasted the body of the text into new .TXT files of the same name. It was ultimately just the easiest way to avoid all the links. \n",
    "* For the .TXT files, I deleted all the irrelevant text out of the documents. "
   ]
  },
  {
   "cell_type": "markdown",
   "metadata": {},
   "source": [
    "## Reading In Files"
   ]
  },
  {
   "cell_type": "code",
   "execution_count": 41,
   "metadata": {
    "tags": []
   },
   "outputs": [
    {
     "output_type": "execute_result",
     "data": {
      "text/plain": "['108upanishads.pdf',\n '2019_Book_InformationConsciousnessRealit.pdf',\n 'abhidhamma_Pitaka_karam_tej_sarao.pdf',\n 'brahma_Sutra_commentary_swami_sivananda.pdf',\n 'brahma_sutras.txt',\n 'comprehensive_manual_of_abhidhamma_2.pdf',\n 'four_vedas.pdf',\n 'indian_philosophy_consciousness.pdf',\n 'mind and consciousness in yoga.htm',\n 'process_of_consciousness_and_matter.pdf',\n 'quantum Approaches to Consciousness.htm',\n 'quantum mind.pdf',\n 'selfhood_and_Identity_in_Confucianism_Ta.pdf',\n 'tao_te_ching.pdf',\n 'the Abhidhamma in Practice.htm',\n 'the Psychology and Philosophy of Buddhism.pdf',\n 'the finer scale of consciousness_ quantum theory.htm',\n 'the universe, quantum physics and consciousness.pdf',\n 'yoga sutras patanjali.txt']"
     },
     "metadata": {},
     "execution_count": 41
    }
   ],
   "source": [
    "path = \"/Users/anterra/Metis/project_4/mind_body_texts\"\n",
    "documents = os.listdir(path)\n",
    "documents.sort()\n",
    "documents"
   ]
  },
  {
   "cell_type": "code",
   "execution_count": 42,
   "metadata": {},
   "outputs": [],
   "source": [
    "pdfs = [doc for doc in documents if doc.endswith(\".pdf\")]\n",
    "htms = [doc for doc in documents if doc.endswith(\".htm\")]\n",
    "txts = [doc for doc in documents if doc.endswith(\".txt\")]\n"
   ]
  },
  {
   "cell_type": "code",
   "execution_count": 43,
   "metadata": {},
   "outputs": [
    {
     "output_type": "execute_result",
     "data": {
      "text/plain": "['mind and consciousness in yoga.htm',\n 'quantum Approaches to Consciousness.htm',\n 'the Abhidhamma in Practice.htm',\n 'the finer scale of consciousness_ quantum theory.htm']"
     },
     "metadata": {},
     "execution_count": 43
    }
   ],
   "source": [
    "htms"
   ]
  },
  {
   "cell_type": "code",
   "execution_count": 44,
   "metadata": {},
   "outputs": [
    {
     "output_type": "execute_result",
     "data": {
      "text/plain": "['brahma_sutras.txt', 'yoga sutras patanjali.txt']"
     },
     "metadata": {},
     "execution_count": 44
    }
   ],
   "source": [
    "txts"
   ]
  },
  {
   "cell_type": "markdown",
   "metadata": {},
   "source": [
    "## PDFS\n",
    "For the PDFs, I'm first stripping off title pages, acknowledgements, table of contents pages, and indexes, so the documents contain only the desired body text. "
   ]
  },
  {
   "cell_type": "code",
   "execution_count": 45,
   "metadata": {},
   "outputs": [
    {
     "output_type": "execute_result",
     "data": {
      "text/plain": "['108upanishads.pdf',\n '2019_Book_InformationConsciousnessRealit.pdf',\n 'abhidhamma_Pitaka_karam_tej_sarao.pdf',\n 'brahma_Sutra_commentary_swami_sivananda.pdf',\n 'comprehensive_manual_of_abhidhamma_2.pdf',\n 'four_vedas.pdf',\n 'indian_philosophy_consciousness.pdf',\n 'process_of_consciousness_and_matter.pdf',\n 'quantum mind.pdf',\n 'selfhood_and_Identity_in_Confucianism_Ta.pdf',\n 'tao_te_ching.pdf',\n 'the Psychology and Philosophy of Buddhism.pdf',\n 'the universe, quantum physics and consciousness.pdf']"
     },
     "metadata": {},
     "execution_count": 45
    }
   ],
   "source": [
    "pdfs"
   ]
  },
  {
   "cell_type": "code",
   "execution_count": 79,
   "metadata": {},
   "outputs": [],
   "source": [
    "reader = PyPDF2.PdfFileReader(path + \"/\" + pdfs[0])\n",
    "writer = PyPDF2.PdfFileWriter()\n",
    "for page_num in range(2, 842):\n",
    "    writer.addPage(reader.getPage(page_num))\n",
    "pdf_upanishads = \"pdf_upanishads.pdf\"\n",
    "with open(pdf_upanishads, \"wb\") as f: \n",
    "    writer.write(f)"
   ]
  },
  {
   "cell_type": "code",
   "execution_count": 83,
   "metadata": {},
   "outputs": [],
   "source": [
    "reader = PyPDF2.PdfFileReader(path + \"/\" + pdfs[1])\n",
    "writer = PyPDF2.PdfFileWriter()\n",
    "for page_num in range(21, 629):\n",
    "    writer.addPage(reader.getPage(page_num))\n",
    "pdf_information_consciousness = \"pdf_information_consciousness.pdf\"\n",
    "with open(pdf_information_consciousness, \"wb\") as f:\n",
    "    writer.write(f)"
   ]
  },
  {
   "cell_type": "code",
   "execution_count": 151,
   "metadata": {},
   "outputs": [],
   "source": [
    "# not working??? \n",
    "reader = PyPDF2.PdfFileReader(path + \"/\" + pdfs[2])\n",
    "writer = PyPDF2.PdfFileWriter()\n",
    "for page_num in range(1, 206):\n",
    "    writer.addPage(reader.getPage(page_num))\n",
    "pdf_abhidhamma_ts = \"pdf_abhidhamma_ts.pdf\"\n",
    "with open(pdf_abhidhamma_ts, \"wb\") as f:\n",
    "    writer.write(f)"
   ]
  },
  {
   "cell_type": "code",
   "execution_count": 85,
   "metadata": {},
   "outputs": [],
   "source": [
    "reader = PyPDF2.PdfFileReader(path + \"/\" + pdfs[3])\n",
    "writer = PyPDF2.PdfFileWriter()\n",
    "for page_num in range(43, 569):\n",
    "    writer.addPage(reader.getPage(page_num))\n",
    "pdf_brahma_sutras_sivananda = \"pdf_brahma_sutras_sivananda.pdf\"\n",
    "with open(pdf_brahma_sutras_sivananda, \"wb\") as f:\n",
    "    writer.write(f)"
   ]
  },
  {
   "cell_type": "code",
   "execution_count": 87,
   "metadata": {},
   "outputs": [],
   "source": [
    "reader = PyPDF2.PdfFileReader(path + \"/\" + pdfs[4])\n",
    "reader.decrypt(\"\")\n",
    "writer = PyPDF2.PdfFileWriter()\n",
    "for page_num in range(27, 392):\n",
    "    writer.addPage(reader.getPage(page_num))\n",
    "pdf_comprehensive_abhidhamma = \"pdf_abhidhamma.pdf\"\n",
    "with open(pdf_comprehensive_abhidhamma, \"wb\") as f:\n",
    "    writer.write(f)"
   ]
  },
  {
   "cell_type": "code",
   "execution_count": 88,
   "metadata": {},
   "outputs": [],
   "source": [
    "reader = PyPDF2.PdfFileReader(path + \"/\" + pdfs[5])\n",
    "writer = PyPDF2.PdfFileWriter()\n",
    "for page_num in range(48, 1445):\n",
    "    writer.addPage(reader.getPage(page_num))\n",
    "pdf_four_vedas = \"pdf_four_vedas.pdf\"\n",
    "with open(pdf_four_vedas, \"wb\") as f:\n",
    "    writer.write(f)"
   ]
  },
  {
   "cell_type": "code",
   "execution_count": 90,
   "metadata": {},
   "outputs": [],
   "source": [
    "reader = PyPDF2.PdfFileReader(path + \"/\" + pdfs[6])\n",
    "writer = PyPDF2.PdfFileWriter()\n",
    "for page_num in range(1, 10):\n",
    "    writer.addPage(reader.getPage(page_num))\n",
    "pdf_indian_philosophy = \"pdf_indian_philosophy.pdf\"\n",
    "with open(pdf_indian_philosophy, \"wb\") as f:\n",
    "    writer.write(f)"
   ]
  },
  {
   "cell_type": "code",
   "execution_count": 91,
   "metadata": {},
   "outputs": [],
   "source": [
    "reader = PyPDF2.PdfFileReader(path + \"/\" + pdfs[7])\n",
    "writer = PyPDF2.PdfFileWriter()\n",
    "for page_num in range(22, 164):\n",
    "    writer.addPage(reader.getPage(page_num))\n",
    "pdf_process_consciousness = \"pdf_process_consciousness.pdf\"\n",
    "with open(pdf_process_consciousness, \"wb\") as f:\n",
    "    writer.write(f)"
   ]
  },
  {
   "cell_type": "code",
   "execution_count": 92,
   "metadata": {},
   "outputs": [],
   "source": [
    "reader = PyPDF2.PdfFileReader(path + \"/\" + pdfs[8])\n",
    "writer = PyPDF2.PdfFileWriter()\n",
    "for page_num in range(2, 157):\n",
    "    writer.addPage(reader.getPage(page_num))\n",
    "pdf_quantum_mind = \"pdf_quantum_mind.pdf\"\n",
    "with open(pdf_quantum_mind, \"wb\") as f:\n",
    "    writer.write(f)"
   ]
  },
  {
   "cell_type": "code",
   "execution_count": 93,
   "metadata": {},
   "outputs": [],
   "source": [
    "reader = PyPDF2.PdfFileReader(path + \"/\" + pdfs[9])\n",
    "writer = PyPDF2.PdfFileWriter()\n",
    "for page_num in range(0, 21):\n",
    "    writer.addPage(reader.getPage(page_num))\n",
    "pdf_selfhood = \"pdf_selfhood.pdf\"\n",
    "with open(pdf_selfhood, \"wb\") as f:\n",
    "    writer.write(f)"
   ]
  },
  {
   "cell_type": "code",
   "execution_count": 94,
   "metadata": {},
   "outputs": [],
   "source": [
    "reader = PyPDF2.PdfFileReader(path + \"/\" + pdfs[10])\n",
    "writer = PyPDF2.PdfFileWriter()\n",
    "for page_num in range(0, 28):\n",
    "    writer.addPage(reader.getPage(page_num))\n",
    "pdf_tao_te_ching = \"pdf_tao_te_ching.pdf\"\n",
    "with open(pdf_tao_te_ching, \"wb\") as f:\n",
    "    writer.write(f)"
   ]
  },
  {
   "cell_type": "code",
   "execution_count": 107,
   "metadata": {},
   "outputs": [
    {
     "output_type": "execute_result",
     "data": {
      "text/plain": "512"
     },
     "metadata": {},
     "execution_count": 107
    }
   ],
   "source": [
    "# not working??? \n",
    "encrypted_file_path = path + \"/\" + pdfs[11]\n",
    "output_path = path + \"/\" + \"pdf_psychology_buddhism.pdf\"\n",
    "command=f\"qpdf --password='' --decrypt {encrypted_file_path} {output_path};\"\n",
    "os.system(command)\n",
    "\n",
    "reader = PyPDF2.PdfFileReader(output_path)\n",
    "writer = PyPDF2.PdfFileWriter()\n",
    "for page_num in range(24, 355):\n",
    "    writer.addPage(reader.getPage(page_num))\n",
    "pdf_psychology_buddhism = \"pdf_psychology_buddhism.pdf\"\n",
    "with open(pdf_psychology_buddhism, \"wb\") as f:\n",
    "    writer.write(f)"
   ]
  },
  {
   "cell_type": "code",
   "execution_count": 106,
   "metadata": {},
   "outputs": [],
   "source": [
    "reader = PyPDF2.PdfFileReader(path + \"/\" + pdfs[12])\n",
    "writer = PyPDF2.PdfFileWriter()\n",
    "for page_num in range(0, 8):\n",
    "    writer.addPage(reader.getPage(page_num))\n",
    "pdf_universe_quantum = \"pdf_universe_quantum.pdf\"\n",
    "with open(pdf_universe_quantum, \"wb\") as f:\n",
    "    writer.write(f)"
   ]
  },
  {
   "cell_type": "code",
   "execution_count": 110,
   "metadata": {},
   "outputs": [],
   "source": [
    "pdf_path = \"/Users/anterra/Metis/project_4/clean_pdfs\"\n",
    "clean_pdfs = os.listdir(pdf_path)"
   ]
  },
  {
   "cell_type": "code",
   "execution_count": 111,
   "metadata": {},
   "outputs": [
    {
     "output_type": "execute_result",
     "data": {
      "text/plain": "['pdf_quantum_mind.pdf',\n 'pdf_information_consciousness.pdf',\n 'pdf_upanishads.pdf',\n 'pdf_universe_quantum.pdf',\n 'pdf_brahma_sutras_sivananda.pdf',\n 'pdf_abhidhamma.pdf',\n 'pdf_selfhood.pdf',\n 'pdf_tao_te_ching.pdf',\n 'pdf_indian_philosophy.pdf',\n 'pdf_abhidamma_ts.pdf',\n 'pdf_process_consciousness.pdf',\n 'pdf_four_vedas.pdf']"
     },
     "metadata": {},
     "execution_count": 111
    }
   ],
   "source": [
    "clean_pdfs"
   ]
  },
  {
   "cell_type": "code",
   "execution_count": 113,
   "metadata": {},
   "outputs": [],
   "source": [
    "text = textract.process(pdf_path+\"/\"+clean_pdfs[0])"
   ]
  },
  {
   "cell_type": "code",
   "execution_count": 118,
   "metadata": {},
   "outputs": [
    {
     "output_type": "execute_result",
     "data": {
      "text/plain": "b'Introduction in quantum aspects of brain function \\n\\nSince  the  development  of  QM  and  relativistic  theories  in  the  first  part  of  the  20th  century, \\nattempts have been made to understand and describe the mind or mental states on the basis of \\nQM concepts (see Meijer, 2014, Meijer and Korf, 2013,). Quantum physics, currently seen as a \\nfurther  refinement  in  the  description  of  nature,  does  not  only  describe  elementary \\nmicrophysics  but  applies  to  classical  or  macro-physical  (Newtonian)  phenomena  as  well. \\nHence the human brain and its mental aspects are associated to classical brain physiology and \\nare  also  part  of  a  quantum  physical  universe.  Most  neurobiologists  considered  QM  mind \\ntheories  irrelevant  to  understand  brain/mind  processes  (e.g.  Edelman  and  Tononi,  2000; \\nKoch and Hepp, 2006).  \\n \\nHowever, there is no  single  theory on QM brain/mind theory.  In fact a spectrum of more or \\nless  independent  models  have  been  propose'"
     },
     "metadata": {},
     "execution_count": 118
    }
   ],
   "source": [
    "text[0:1000]"
   ]
  },
  {
   "cell_type": "markdown",
   "metadata": {},
   "source": [
    "## HTMs\n",
    "After the below attempts, I've decided to just manually copy-paste the text from each of the 4 URLs into .txt files. They are all rather short articles and there are only 4 of them, and best to just save time. "
   ]
  },
  {
   "cell_type": "code",
   "execution_count": 112,
   "metadata": {},
   "outputs": [
    {
     "output_type": "execute_result",
     "data": {
      "text/plain": "['mind and consciousness in yoga.htm',\n 'quantum Approaches to Consciousness.htm',\n 'the Abhidhamma in Practice.htm',\n 'the finer scale of consciousness_ quantum theory.htm']"
     },
     "metadata": {},
     "execution_count": 112
    }
   ],
   "source": [
    "htms"
   ]
  },
  {
   "cell_type": "code",
   "execution_count": 134,
   "metadata": {},
   "outputs": [],
   "source": [
    "text2 = textract.process(path+\"/\"+htms[0])"
   ]
  },
  {
   "cell_type": "code",
   "execution_count": 135,
   "metadata": {},
   "outputs": [
    {
     "output_type": "execute_result",
     "data": {
      "text/plain": "b\"\\nWarning:  The NCBI web site requires JavaScript to function.   more...\\n\\n-->\\n\\nNCBI\\n\\nSkip to main\\n                        content\\n\\nSkip to\\n                        navigation\\n\\nResources\\n\\nHow To\\n\\nAbout NCBI Accesskeys\\n\\nPMC\\n\\nUS National Library of Medicine  National Institutes of Health\\n\\nSearch database\\n\\nPMC\\n\\nAll Databases\\n\\nAssembly\\n\\nBiocollections\\n\\nBioProject\\n\\nBioSample\\n\\nBioSystems\\n\\nBooks\\n\\nClinVar\\n\\nConserved Domains\\n\\ndbGaP\\n\\ndbVar\\n\\nGene\\n\\nGenome\\n\\nGEO DataSets\\n\\nGEO Profiles\\n\\nGTR\\n\\nHomoloGene\\n\\nIdentical Protein Groups\\n\\nMedGen\\n\\nMeSH\\n\\nNCBI Web Site\\n\\nNLM Catalog\\n\\nNucleotide\\n\\nOMIM\\n\\nPMC\\n\\nPopSet\\n\\nProtein\\n\\nProtein Clusters\\n\\nPubChem BioAssay\\n\\nPubChem Compound\\n\\nPubChem Substance\\n\\nPubMed\\n\\nSNP\\n\\nSparcle\\n\\nSRA\\n\\nStructure\\n\\nTaxonomy\\n\\nToolKit\\n\\nToolKitAll\\n\\nToolKitBookgh\\n\\nSearch termSearch\\n\\nAdvanced\\n\\nJournal list\\n\\nHelp\\n\\nCOVID-19 is an emerging, rapidly evolving situation.Get the latest public health information from CDC: https://www.coronavirus.gov .Get the latest research from NIH: https://www.nih.gov/coronavirus.Find NCBI SARS-CoV-2 literature, sequence, and clinical content: https://www.ncbi.nlm.nih.gov/sars-cov-2/.\\n\\n(function($){         $('.skiplink').each(function(i, item){             var href = $($(item).attr('href'));             href.attr('tabindex', '-1').addClass('skiptarget'); // ensure the target can receive focus             $(item).on('click', function(event){                 event.preventDefault();                 $.scrollTo(href, 0, {                     onAfter: function(){                         href.focus();                     }                 });             });         });     })(jQuery);\\n\\nJournal List\\n\\nIndian J Psychiatry\\n\\nv.55(Suppl 2); 2013 Jan\\n\\nPMC3705680\\n\\nIndian J Psychiatry. 2013 Jan; 55(Suppl 2): S182\\xe2\\x80\\x93S186.\\n\\ndoi: 10.4103/0019-5545.105524\\n\\nPMCID: PMC3705680\\n\\nPMID: 23858252\\n\\nMind and consciousness in yoga \\xe2\\x80\\x93 Vedanta: A comparative analysis with western psychological concepts\\n\\nH. R. Aravinda Prabhu and  P. S. Bhat1\\n\\nH. R. Aravinda Prabhu\\n\\nDepartment of Psychia\""
     },
     "metadata": {},
     "execution_count": 135
    }
   ],
   "source": [
    "text2[0:2000]"
   ]
  },
  {
   "cell_type": "code",
   "execution_count": 136,
   "metadata": {},
   "outputs": [],
   "source": [
    "to_text = html2text.HTML2Text()\n",
    "text3 = to_text.handle(path+\"/\"+htms[0])\n"
   ]
  },
  {
   "cell_type": "code",
   "execution_count": null,
   "metadata": {},
   "outputs": [],
   "source": []
  },
  {
   "cell_type": "markdown",
   "metadata": {},
   "source": [
    "## TXTs \n",
    "For the .txt files, I'm just opening them in VSCode and deleting the table of contents and appendix text! "
   ]
  },
  {
   "cell_type": "code",
   "execution_count": 138,
   "metadata": {},
   "outputs": [
    {
     "output_type": "execute_result",
     "data": {
      "text/plain": "['brahma_sutras.txt', 'yoga sutras patanjali.txt']"
     },
     "metadata": {},
     "execution_count": 138
    }
   ],
   "source": [
    "txts"
   ]
  },
  {
   "cell_type": "code",
   "execution_count": 142,
   "metadata": {},
   "outputs": [
    {
     "output_type": "execute_result",
     "data": {
      "text/plain": "b'The Project Gutenberg EBook of The Vedanta-Sutras with the Commentary by\\nRamanuja, by Trans. George Thibaut\\n\\nCopyright laws are changing all over the world. Be sure to check the\\ncopyright laws for your country before downloading or redistributing\\nthis or any other Project Gutenberg eBook.\\n\\nThis header should be the first thing seen when viewing this Project\\nGutenberg file.  Please do not remove it.  Do not change or edit the\\nheader without written permission.\\n\\nPlease read the \"legal small print,\" and other information about the\\neBook and Project Gutenberg at the bottom of this file.  Included is\\nimportant information about your specific rights and restrictions in\\nhow the file may be used.  You can also find out about how to make a\\ndonation to Project Gutenberg, and how to get involved.\\n\\n\\n**Welcome To The World of Free Plain Vanilla Electronic Texts**\\n\\n**eBooks Readable By Both Humans and By Computers, Since 1971**\\n\\n*****These eBooks Were Prepared By Thousands of Volunteers!*****\\n\\n\\nTitl'"
     },
     "metadata": {},
     "execution_count": 142
    }
   ],
   "source": [
    "text4 = textract.process(path+\"/\"+txts[0])\n",
    "text4[0:1000]"
   ]
  },
  {
   "cell_type": "code",
   "execution_count": null,
   "metadata": {},
   "outputs": [],
   "source": []
  },
  {
   "cell_type": "code",
   "execution_count": 137,
   "metadata": {},
   "outputs": [
    {
     "output_type": "execute_result",
     "data": {
      "text/plain": "'/Users/anterra/Metis/project_4/mind_body_texts/mind and consciousness in\\nyoga.htm\\n\\n'"
     },
     "metadata": {},
     "execution_count": 137
    }
   ],
   "source": [
    "text3"
   ]
  }
 ]
}